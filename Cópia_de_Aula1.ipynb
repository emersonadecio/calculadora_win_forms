{
  "nbformat": 4,
  "nbformat_minor": 0,
  "metadata": {
    "colab": {
      "name": "Cópia de Aula1.ipynb",
      "provenance": [],
      "include_colab_link": true
    },
    "kernelspec": {
      "name": "python3",
      "display_name": "Python 3"
    }
  },
  "cells": [
    {
      "cell_type": "markdown",
      "metadata": {
        "id": "view-in-github",
        "colab_type": "text"
      },
      "source": [
        "<a href=\"https://colab.research.google.com/github/emersonadecio/calculadora_win_forms/blob/main/C%C3%B3pia_de_Aula1.ipynb\" target=\"_parent\"><img src=\"https://colab.research.google.com/assets/colab-badge.svg\" alt=\"Open In Colab\"/></a>"
      ]
    },
    {
      "cell_type": "markdown",
      "metadata": {
        "id": "Y9lSjk59nFWd"
      },
      "source": [
        "### Saída de dados\n",
        "\n",
        "---"
      ]
    },
    {
      "cell_type": "markdown",
      "metadata": {
        "id": "UOXBzJEfKdVd"
      },
      "source": [
        "A função `print()` recebe como parâmetro uma sequência de `strings` e/ou variáveis (separados por vírgula) e os exibe na tela."
      ]
    },
    {
      "cell_type": "code",
      "metadata": {
        "id": "r95pBWYPm2ef",
        "colab": {
          "base_uri": "https://localhost:8080/"
        },
        "outputId": "94fcc7bf-d83e-4ac0-da26-711793513a06"
      },
      "source": [
        "print('Ola Mundo')"
      ],
      "execution_count": null,
      "outputs": [
        {
          "output_type": "stream",
          "name": "stdout",
          "text": [
            "Ola Mundo\n"
          ]
        }
      ]
    },
    {
      "cell_type": "code",
      "metadata": {
        "id": "pQxHsMBrsS8b",
        "colab": {
          "base_uri": "https://localhost:8080/"
        },
        "outputId": "12953a74-f5f7-4f38-81a5-68fb32bb90a7"
      },
      "source": [
        "print('30')"
      ],
      "execution_count": null,
      "outputs": [
        {
          "output_type": "stream",
          "name": "stdout",
          "text": [
            "30\n"
          ]
        }
      ]
    },
    {
      "cell_type": "markdown",
      "metadata": {
        "id": "glV9YY7CtcTT"
      },
      "source": [
        "### Variáveis\n",
        "\n",
        "---"
      ]
    },
    {
      "cell_type": "markdown",
      "metadata": {
        "id": "5h17XdRlKmJ0"
      },
      "source": [
        "Imprimir somente texto não é interessante, precisamos de variáveis para armazenar valores e manter nosso programa mais interativo. \n",
        "\n",
        "Como é comum nas linguagens de programação, as variáveis em Python podem armazenar diferentes tipos: números(`int`, `float`), texto(`str`), booleanos(`bool`) ...\n",
        "\n",
        "O que pode ser diferente do que estamos acostumados é que aqui não declaramos o tipo, ele é definido pelo valor atribuído. O operador de `=` é utilizado para a atribuição de valores."
      ]
    },
    {
      "cell_type": "code",
      "metadata": {
        "colab": {
          "base_uri": "https://localhost:8080/"
        },
        "id": "kg30OFQlR_sv",
        "outputId": "b81ee2cc-c28e-48af-9a3a-9c9ad05245c5"
      },
      "source": [
        "nome = \"Rodrigo\"\n",
        "idade = 30\n",
        "preco = 1.25\n",
        "\n",
        "preco = \"Barato\"\n",
        "\n",
        "print(preco)\n",
        "\n",
        "preco = \"Caro\"\n",
        "\n",
        "print(preco)"
      ],
      "execution_count": null,
      "outputs": [
        {
          "output_type": "stream",
          "name": "stdout",
          "text": [
            "Barato\n",
            "Caro\n"
          ]
        }
      ]
    },
    {
      "cell_type": "code",
      "metadata": {
        "id": "Gv9FoqqJAsHy"
      },
      "source": [
        ""
      ],
      "execution_count": null,
      "outputs": []
    },
    {
      "cell_type": "markdown",
      "metadata": {
        "id": "Qz1Mh8wR7aTU"
      },
      "source": [
        "# Nova seção"
      ]
    },
    {
      "cell_type": "code",
      "metadata": {
        "id": "ycqqqrxiGc05",
        "colab": {
          "base_uri": "https://localhost:8080/"
        },
        "outputId": "33c67b05-b2df-4b8e-c4fe-7413bf1daafc"
      },
      "source": [
        "cor = input(\"Escolha uma cor: \") \n",
        "print(\"A cor escolhida foi\", cor) "
      ],
      "execution_count": null,
      "outputs": [
        {
          "output_type": "stream",
          "name": "stdout",
          "text": [
            "Escolha uma cor: verde\n",
            "A cor escolhida foi verde\n"
          ]
        }
      ]
    },
    {
      "cell_type": "markdown",
      "metadata": {
        "id": "uhK9DpOD7nIo"
      },
      "source": [
        ""
      ]
    },
    {
      "cell_type": "markdown",
      "metadata": {
        "id": "RAGnFCK07nkk"
      },
      "source": [
        ""
      ]
    },
    {
      "cell_type": "code",
      "metadata": {
        "id": "bSVPHUx3HlG3",
        "colab": {
          "base_uri": "https://localhost:8080/"
        },
        "outputId": "2efc3318-b87f-4159-d81e-464614de876b"
      },
      "source": [
        "x = input(\"Digite um número: \") \n",
        "dobro = x * 10 \n",
        "print(\"O dobro do número é \", dobro) #essa linha não dará certo"
      ],
      "execution_count": null,
      "outputs": [
        {
          "output_type": "stream",
          "name": "stdout",
          "text": [
            "Digite um número: 5\n",
            "O dobro do número é  5555555555\n"
          ]
        }
      ]
    },
    {
      "cell_type": "markdown",
      "metadata": {
        "id": "Iy92cBaVIElD"
      },
      "source": [
        "Como os tipos dos dados em Python não são explícitos pelo usuário, algumas vezes precisamos dizer o que queremos. \n",
        "\n",
        "No caso anterior, o `input()` por padrão considera que o usuário digitou uma string(`str`), mas nem sempre é assim, como vimos anteriormente. \n",
        "\n",
        "Outro caso é na concatenação de strings, que não aceitam a soma direta com números. \n",
        "\n",
        "Para isso existem funções como `int()` e `str()` que recebem uma variável por parâmetro e retornam o mesmo valor com o tipo convertido."
      ]
    },
    {
      "cell_type": "code",
      "metadata": {
        "id": "L3C6qBzQIaFy",
        "colab": {
          "base_uri": "https://localhost:8080/"
        },
        "outputId": "e3a3dfb6-e038-4a67-d69c-6d56c1354fd3"
      },
      "source": [
        "x = input(\"Digite um número: \")\n",
        "otoX = int(x) \n",
        "dobro = otoX * 2 \n",
        "print(\"O dobro do número é \", dobro)"
      ],
      "execution_count": null,
      "outputs": [
        {
          "output_type": "stream",
          "name": "stdout",
          "text": [
            "Digite um número: 10\n",
            "O dobro do número é  20\n"
          ]
        }
      ]
    },
    {
      "cell_type": "code",
      "metadata": {
        "colab": {
          "base_uri": "https://localhost:8080/"
        },
        "id": "iyeZd7SeUjPx",
        "outputId": "5aedaf1b-aeed-46e2-b07b-7349ee36cb9a"
      },
      "source": [
        "x = float(input(\"Digite um número: \"))\n",
        "dobro = x * 2 \n",
        "print(\"O dobro do número é \", dobro)"
      ],
      "execution_count": null,
      "outputs": [
        {
          "output_type": "stream",
          "name": "stdout",
          "text": [
            "Digite um número: 1.115\n",
            "O dobro do número é  2.23\n"
          ]
        }
      ]
    },
    {
      "cell_type": "code",
      "metadata": {
        "id": "RBwV8JWlIbSg",
        "cellView": "both",
        "colab": {
          "base_uri": "https://localhost:8080/"
        },
        "outputId": "e2e023b5-9f3c-459f-ce72-1a692d697563"
      },
      "source": [
        "frase = \"A resposta é \" \n",
        "resposta = 2\n",
        "resposta = str(resposta)\n",
        "frase = frase + resposta #errado\n",
        "#frase = frase + str(resposta) #certo\n",
        "print(frase)"
      ],
      "execution_count": null,
      "outputs": [
        {
          "output_type": "stream",
          "text": [
            "A resposta é 2\n"
          ],
          "name": "stdout"
        }
      ]
    },
    {
      "cell_type": "code",
      "metadata": {
        "id": "scPOP--TcZ8I"
      },
      "source": [
        ""
      ],
      "execution_count": null,
      "outputs": []
    }
  ]
}